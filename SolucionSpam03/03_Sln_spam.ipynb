{
  "nbformat": 4,
  "nbformat_minor": 0,
  "metadata": {
    "colab": {
      "name": "03-Sln-spam.ipynb",
      "provenance": []
    },
    "kernelspec": {
      "name": "python3",
      "display_name": "Python 3"
    }
  },
  "cells": [
    {
      "cell_type": "markdown",
      "metadata": {
        "id": "3_bfUbOkAag_",
        "colab_type": "text"
      },
      "source": [
        "## Librerias"
      ]
    },
    {
      "cell_type": "code",
      "metadata": {
        "id": "Nlw-_uhrwAhr",
        "colab_type": "code",
        "colab": {}
      },
      "source": [
        "from sklearn.linear_model import LogisticRegression\n",
        "from sklearn.metrics import plot_confusion_matrix\n",
        "from sklearn.neural_network import MLPClassifier\n",
        "from sklearn.model_selection import ShuffleSplit\n",
        "from sklearn.model_selection import cross_val_score\n",
        "import pandas as pd\n",
        "import numpy as np\n",
        "import seaborn as sns\n",
        "import matplotlib.pyplot as plt\n",
        "from random import seed\n",
        "seed(1) ### Para no variar los aleatorios\n",
        "%matplotlib inline\n",
        "%reload_ext rpy2.ipython"
      ],
      "execution_count": 0,
      "outputs": []
    },
    {
      "cell_type": "markdown",
      "metadata": {
        "id": "lEIibewYBjyE",
        "colab_type": "text"
      },
      "source": [
        "## Aclaraciones\n",
        "Para el preprocesamiento de los datos, se utiliza una metodologia propuesta por el profesor Juan David Velásquez Henao aplicada en el siguiente ejemplo: https://jdvelasq.github.io/courses/notebooks/sklearn/bayes/02-filtrado-de-mensajes-sms.html"
      ]
    },
    {
      "cell_type": "markdown",
      "metadata": {
        "id": "UTGFmdunDDiT",
        "colab_type": "text"
      },
      "source": [
        "## Lectura de datos"
      ]
    },
    {
      "cell_type": "code",
      "metadata": {
        "id": "kN2DzYEwBl-O",
        "colab_type": "code",
        "colab": {
          "base_uri": "https://localhost:8080/",
          "height": 195
        },
        "outputId": "21c7cd34-44ce-4fc0-e171-485c88e1b5f0"
      },
      "source": [
        "df = pd.read_csv(\n",
        "    \"https://raw.githubusercontent.com/ANN-2019-2/evaluacion-cdbolivarz/master/datos/sms-spam.csv\",\n",
        "    sep = ',',\n",
        "    thousands = None,\n",
        "    decimal = '.',\n",
        "    encoding='latin-1')\n",
        "\n",
        "df.head()"
      ],
      "execution_count": 2,
      "outputs": [
        {
          "output_type": "execute_result",
          "data": {
            "text/html": [
              "<div>\n",
              "<style scoped>\n",
              "    .dataframe tbody tr th:only-of-type {\n",
              "        vertical-align: middle;\n",
              "    }\n",
              "\n",
              "    .dataframe tbody tr th {\n",
              "        vertical-align: top;\n",
              "    }\n",
              "\n",
              "    .dataframe thead th {\n",
              "        text-align: right;\n",
              "    }\n",
              "</style>\n",
              "<table border=\"1\" class=\"dataframe\">\n",
              "  <thead>\n",
              "    <tr style=\"text-align: right;\">\n",
              "      <th></th>\n",
              "      <th>type</th>\n",
              "      <th>text</th>\n",
              "    </tr>\n",
              "  </thead>\n",
              "  <tbody>\n",
              "    <tr>\n",
              "      <th>0</th>\n",
              "      <td>ham</td>\n",
              "      <td>Go until jurong point, crazy.. Available only ...</td>\n",
              "    </tr>\n",
              "    <tr>\n",
              "      <th>1</th>\n",
              "      <td>ham</td>\n",
              "      <td>Ok lar... Joking wif u oni...</td>\n",
              "    </tr>\n",
              "    <tr>\n",
              "      <th>2</th>\n",
              "      <td>spam</td>\n",
              "      <td>Free entry in 2 a wkly comp to win FA Cup fina...</td>\n",
              "    </tr>\n",
              "    <tr>\n",
              "      <th>3</th>\n",
              "      <td>ham</td>\n",
              "      <td>U dun say so early hor... U c already then say...</td>\n",
              "    </tr>\n",
              "    <tr>\n",
              "      <th>4</th>\n",
              "      <td>ham</td>\n",
              "      <td>Nah I don't think he goes to usf, he lives aro...</td>\n",
              "    </tr>\n",
              "  </tbody>\n",
              "</table>\n",
              "</div>"
            ],
            "text/plain": [
              "   type                                               text\n",
              "0   ham  Go until jurong point, crazy.. Available only ...\n",
              "1   ham                      Ok lar... Joking wif u oni...\n",
              "2  spam  Free entry in 2 a wkly comp to win FA Cup fina...\n",
              "3   ham  U dun say so early hor... U c already then say...\n",
              "4   ham  Nah I don't think he goes to usf, he lives aro..."
            ]
          },
          "metadata": {
            "tags": []
          },
          "execution_count": 2
        }
      ]
    },
    {
      "cell_type": "markdown",
      "metadata": {
        "id": "rkbRHyEKDjn7",
        "colab_type": "text"
      },
      "source": [
        "### Cantidad de mensajes por tipo"
      ]
    },
    {
      "cell_type": "code",
      "metadata": {
        "id": "0Is80xhODQfo",
        "colab_type": "code",
        "colab": {
          "base_uri": "https://localhost:8080/",
          "height": 284
        },
        "outputId": "fa00142e-f2b4-4307-8863-c92aa08212e5"
      },
      "source": [
        "df.type.value_counts().plot.bar();"
      ],
      "execution_count": 3,
      "outputs": [
        {
          "output_type": "display_data",
          "data": {
            "image/png": "[encoded data removed]",
            "text/plain": [
              "<Figure size 432x288 with 1 Axes>"
            ]
          },
          "metadata": {
            "tags": []
          }
        }
      ]
    },
    {
      "cell_type": "markdown",
      "metadata": {
        "id": "XA2rHxAXDprB",
        "colab_type": "text"
      },
      "source": [
        "En la base de datos se perciben mas mensajes que no son spam"
      ]
    },
    {
      "cell_type": "markdown",
      "metadata": {
        "id": "crWPSRwlD8OS",
        "colab_type": "text"
      },
      "source": [
        "## Preprocesamiento"
      ]
    },
    {
      "cell_type": "markdown",
      "metadata": {
        "id": "fFJTlVY8EP5c",
        "colab_type": "text"
      },
      "source": [
        "### Stemmer\n",
        "Para este primer paso, se lleva todo a minusculas y se quita la conjugacion"
      ]
    },
    {
      "cell_type": "code",
      "metadata": {
        "id": "gixGLp4oEbfg",
        "colab_type": "code",
        "colab": {
          "base_uri": "https://localhost:8080/",
          "height": 343
        },
        "outputId": "adbfa895-bec9-405b-9a63-5f2e92d06572"
      },
      "source": [
        "from nltk.stem.porter import PorterStemmer\n",
        "stemmer = PorterStemmer()\n",
        "\n",
        "df['stemmed'] = df.text.apply(lambda x: ' '.join([stemmer.stem(w) for w in x.split() ]))\n",
        "\n",
        "df.head(10)"
      ],
      "execution_count": 4,
      "outputs": [
        {
          "output_type": "execute_result",
          "data": {
            "text/html": [
              "<div>\n",
              "<style scoped>\n",
              "    .dataframe tbody tr th:only-of-type {\n",
              "        vertical-align: middle;\n",
              "    }\n",
              "\n",
              "    .dataframe tbody tr th {\n",
              "        vertical-align: top;\n",
              "    }\n",
              "\n",
              "    .dataframe thead th {\n",
              "        text-align: right;\n",
              "    }\n",
              "</style>\n",
              "<table border=\"1\" class=\"dataframe\">\n",
              "  <thead>\n",
              "    <tr style=\"text-align: right;\">\n",
              "      <th></th>\n",
              "      <th>type</th>\n",
              "      <th>text</th>\n",
              "      <th>stemmed</th>\n",
              "    </tr>\n",
              "  </thead>\n",
              "  <tbody>\n",
              "    <tr>\n",
              "      <th>0</th>\n",
              "      <td>ham</td>\n",
              "      <td>Go until jurong point, crazy.. Available only ...</td>\n",
              "      <td>Go until jurong point, crazy.. avail onli in b...</td>\n",
              "    </tr>\n",
              "    <tr>\n",
              "      <th>1</th>\n",
              "      <td>ham</td>\n",
              "      <td>Ok lar... Joking wif u oni...</td>\n",
              "      <td>Ok lar... joke wif u oni...</td>\n",
              "    </tr>\n",
              "    <tr>\n",
              "      <th>2</th>\n",
              "      <td>spam</td>\n",
              "      <td>Free entry in 2 a wkly comp to win FA Cup fina...</td>\n",
              "      <td>free entri in 2 a wkli comp to win FA cup fina...</td>\n",
              "    </tr>\n",
              "    <tr>\n",
              "      <th>3</th>\n",
              "      <td>ham</td>\n",
              "      <td>U dun say so early hor... U c already then say...</td>\n",
              "      <td>U dun say so earli hor... U c alreadi then say...</td>\n",
              "    </tr>\n",
              "    <tr>\n",
              "      <th>4</th>\n",
              "      <td>ham</td>\n",
              "      <td>Nah I don't think he goes to usf, he lives aro...</td>\n",
              "      <td>nah I don't think he goe to usf, he live aroun...</td>\n",
              "    </tr>\n",
              "    <tr>\n",
              "      <th>5</th>\n",
              "      <td>spam</td>\n",
              "      <td>FreeMsg Hey there darling it's been 3 week's n...</td>\n",
              "      <td>freemsg hey there darl it' been 3 week' now an...</td>\n",
              "    </tr>\n",
              "    <tr>\n",
              "      <th>6</th>\n",
              "      <td>ham</td>\n",
              "      <td>Even my brother is not like to speak with me. ...</td>\n",
              "      <td>even my brother is not like to speak with me. ...</td>\n",
              "    </tr>\n",
              "    <tr>\n",
              "      <th>7</th>\n",
              "      <td>ham</td>\n",
              "      <td>As per your request 'Melle Melle (Oru Minnamin...</td>\n",
              "      <td>As per your request 'mell mell (oru minnaminun...</td>\n",
              "    </tr>\n",
              "    <tr>\n",
              "      <th>8</th>\n",
              "      <td>spam</td>\n",
              "      <td>WINNER!! As a valued network customer you have...</td>\n",
              "      <td>winner!! As a valu network custom you have bee...</td>\n",
              "    </tr>\n",
              "    <tr>\n",
              "      <th>9</th>\n",
              "      <td>spam</td>\n",
              "      <td>Had your mobile 11 months or more? U R entitle...</td>\n",
              "      <td>had your mobil 11 month or more? U R entitl to...</td>\n",
              "    </tr>\n",
              "  </tbody>\n",
              "</table>\n",
              "</div>"
            ],
            "text/plain": [
              "   type  ...                                            stemmed\n",
              "0   ham  ...  Go until jurong point, crazy.. avail onli in b...\n",
              "1   ham  ...                        Ok lar... joke wif u oni...\n",
              "2  spam  ...  free entri in 2 a wkli comp to win FA cup fina...\n",
              "3   ham  ...  U dun say so earli hor... U c alreadi then say...\n",
              "4   ham  ...  nah I don't think he goe to usf, he live aroun...\n",
              "5  spam  ...  freemsg hey there darl it' been 3 week' now an...\n",
              "6   ham  ...  even my brother is not like to speak with me. ...\n",
              "7   ham  ...  As per your request 'mell mell (oru minnaminun...\n",
              "8  spam  ...  winner!! As a valu network custom you have bee...\n",
              "9  spam  ...  had your mobil 11 month or more? U R entitl to...\n",
              "\n",
              "[10 rows x 3 columns]"
            ]
          },
          "metadata": {
            "tags": []
          },
          "execution_count": 4
        }
      ]
    },
    {
      "cell_type": "markdown",
      "metadata": {
        "id": "laKFUk7rEziK",
        "colab_type": "text"
      },
      "source": [
        "### Normalización"
      ]
    },
    {
      "cell_type": "code",
      "metadata": {
        "id": "9GsUSqUODnRc",
        "colab_type": "code",
        "colab": {}
      },
      "source": [
        "\n",
        "##\n",
        "## Matriz de términos del documento en Python\n",
        "##\n",
        "from sklearn.feature_extraction.text import CountVectorizer\n",
        "\n",
        "count_vect = CountVectorizer(\n",
        "    analyzer='word',        # a nivel de palabra\n",
        "    lowercase=True,         # convierte a minúsculas\n",
        "    stop_words='english',   # stop_words en inglés\n",
        "    binary=True,            # Los valores distintos de cero son fijados en 1\n",
        "    min_df=5                # ignora palabras con baja freq\n",
        ")\n",
        "\n",
        "\n",
        "##\n",
        "## Aplica la función al texto\n",
        "##\n",
        "dtm = count_vect.fit_transform(df.stemmed)\n",
        "\n",
        "vocabulary = count_vect.get_feature_names()\n",
        "\n",
        "##\n",
        "## Recupera los mensajes de la dtm\n",
        "##\n",
        "def dtm2words(dtm, vocabulary, index):\n",
        "    as_list = dtm[index,:].toarray().tolist()\n",
        "    docs = []\n",
        "    for i in index:\n",
        "        k = [vocabulary[iword] for iword, ifreq in enumerate(as_list[i]) if ifreq > 0]\n",
        "        docs += [k]\n",
        "    return docs"
      ],
      "execution_count": 0,
      "outputs": []
    },
    {
      "cell_type": "markdown",
      "metadata": {
        "id": "VzIamk77FFiS",
        "colab_type": "text"
      },
      "source": [
        "## Conjuntos de entrenamiento y prueba"
      ]
    },
    {
      "cell_type": "code",
      "metadata": {
        "id": "t3i9b7OhEDpm",
        "colab_type": "code",
        "colab": {}
      },
      "source": [
        "##\n",
        "## Creación de los conjuntos de entrenamiento y prueba.\n",
        "##\n",
        "X_train      = dtm[0:4168,]\n",
        "X_test       = dtm[4169:,]\n",
        "y_train_true = df.type[0:4168]\n",
        "y_test_true  = df.type[4169:]"
      ],
      "execution_count": 0,
      "outputs": []
    },
    {
      "cell_type": "code",
      "metadata": {
        "id": "hYQczWrCFJiI",
        "colab_type": "code",
        "colab": {
          "base_uri": "https://localhost:8080/",
          "height": 67
        },
        "outputId": "7ba133c4-e0b5-4e06-f1b2-edbb818e6da6"
      },
      "source": [
        "##\n",
        "## Distribución de los datos en el conjunto de entrenamiento.\n",
        "##\n",
        "round(100 * y_train_true.value_counts() / sum(y_train_true.value_counts()), 1)"
      ],
      "execution_count": 7,
      "outputs": [
        {
          "output_type": "execute_result",
          "data": {
            "text/plain": [
              "ham     86.5\n",
              "spam    13.5\n",
              "Name: type, dtype: float64"
            ]
          },
          "metadata": {
            "tags": []
          },
          "execution_count": 7
        }
      ]
    },
    {
      "cell_type": "code",
      "metadata": {
        "id": "CBC75SUeFPOp",
        "colab_type": "code",
        "colab": {
          "base_uri": "https://localhost:8080/",
          "height": 67
        },
        "outputId": "c6d8387c-78fb-4811-9c16-c9641cc81621"
      },
      "source": [
        "\n",
        "##\n",
        "## Distribución de los datos en el conjunto de entrenamiento.\n",
        "##\n",
        "round(100 * y_test_true.value_counts() / sum(y_test_true.value_counts()), 1)"
      ],
      "execution_count": 8,
      "outputs": [
        {
          "output_type": "execute_result",
          "data": {
            "text/plain": [
              "ham     87.0\n",
              "spam    13.0\n",
              "Name: type, dtype: float64"
            ]
          },
          "metadata": {
            "tags": []
          },
          "execution_count": 8
        }
      ]
    },
    {
      "cell_type": "markdown",
      "metadata": {
        "id": "RlxJkMLNFSPl",
        "colab_type": "text"
      },
      "source": [
        "## Clasificación"
      ]
    },
    {
      "cell_type": "markdown",
      "metadata": {
        "id": "PmcRbdWCFYU7",
        "colab_type": "text"
      },
      "source": [
        "### Modelo base\n",
        "Para el modelo base se utiliza un modelo de regresión logística, ya que al arrojar como resultado 1 ó 0 puede separar los datos por clases."
      ]
    },
    {
      "cell_type": "code",
      "metadata": {
        "id": "6gtXtpmoFRLL",
        "colab_type": "code",
        "colab": {
          "base_uri": "https://localhost:8080/",
          "height": 295
        },
        "outputId": "ccb9add9-8ea7-4cde-91c2-c3fd8459ad6f"
      },
      "source": [
        "\n",
        "base_model = LogisticRegression(random_state=420).fit(X_train, y_train_true)\n",
        "cm = plot_confusion_matrix(base_model, X_test, y_test_true,\n",
        "                           display_labels=['ham', 'spam'],\n",
        "                           cmap=plt.cm.Blues,\n",
        "                           normalize='true')\n",
        "cm.ax_.set_title(\"Matriz de confusion normalizada\")\n",
        "plt.show()"
      ],
      "execution_count": 9,
      "outputs": [
        {
          "output_type": "display_data",
          "data": {
            "image/png": "[encoded data removed]",
            "text/plain": [
              "<Figure size 432x288 with 2 Axes>"
            ]
          },
          "metadata": {
            "tags": []
          }
        }
      ]
    },
    {
      "cell_type": "markdown",
      "metadata": {
        "id": "273AkmS6Iq99",
        "colab_type": "text"
      },
      "source": [
        "El modelo base entrega buenos resultados, ya que asegura casi todos los mensajes que no son spam correctamente. Para este caso interesa maximizar la prediccion de los mensajes que son $ham$, es decir, que la primera fila de la matriz de confusión sea 1 0 "
      ]
    },
    {
      "cell_type": "markdown",
      "metadata": {
        "id": "bcsOWPZRJxZN",
        "colab_type": "text"
      },
      "source": [
        "### Modelo con redes neuronales multicapa"
      ]
    },
    {
      "cell_type": "code",
      "metadata": {
        "id": "AZlQMESqG0w9",
        "colab_type": "code",
        "colab": {
          "base_uri": "https://localhost:8080/",
          "height": 34
        },
        "outputId": "4ec3b483-66f3-4861-802a-1c1e66941296"
      },
      "source": [
        "# Seguarda la precision para las graficas\n",
        "N = dtm.shape[0]\n",
        "max_hidden_layer_size = 5\n",
        "accuracy = np.zeros((5, 4))\n",
        "best_score = 0\n",
        "best_mhl_1 = 0 # Mejor numero de neuronas en la capa oculta 1\n",
        "best_mhl_2 = 0 # Mejor numero de neuronas en la capa 2\n",
        "cv = ShuffleSplit(n_splits=N//50, test_size=0.25, random_state=420) # Configuracion crossvalidation\n",
        "X_crossv = dtm\n",
        "Y_crossv = df.type\n",
        "\n",
        "\n",
        "for mhl_1 in range(1, max_hidden_layer_size + 1):\n",
        "  for mhl_2 in range(2, max_hidden_layer_size + 1):\n",
        "    model = MLPClassifier(hidden_layer_sizes=(mhl_2, mhl_1 ),\n",
        "         activation = 'logistic',\n",
        "         learning_rate = 'adaptive',\n",
        "         momentum = 0.9,\n",
        "         learning_rate_init = 0.5,\n",
        "         random_state = 45,\n",
        "         max_iter = 10000\n",
        "         )\n",
        "    \n",
        "    scores = cross_val_score(model, X_crossv, Y_crossv, cv=cv, scoring='accuracy')\n",
        "    mean = scores.mean()\n",
        "    accuracy[mhl_1-1][mhl_2-2] = mean\n",
        "    if (mean > best_score):\n",
        "      best_score = mean\n",
        "      best_mhl_1 = mhl_1\n",
        "      best_mhl_2 = mhl_2\n",
        "\n",
        "print(\"La mayor exactitud encontrada es de\", best_score, \", neuronas en la primer capa oculta\", best_mhl_2, \"y en la segunda\", best_mhl_1)"
      ],
      "execution_count": 12,
      "outputs": [
        {
          "output_type": "stream",
          "text": [
            "La mayor exactitud encontrada es de 0.9787894063360348 , neuronas en la primer capa oculta 2 y en la segunda 2\n"
          ],
          "name": "stdout"
        }
      ]
    },
    {
      "cell_type": "markdown",
      "metadata": {
        "id": "x5-vbSzG2qqd",
        "colab_type": "text"
      },
      "source": [
        "### Exactitud por modelos"
      ]
    },
    {
      "cell_type": "code",
      "metadata": {
        "id": "jXl2qLC8tz1w",
        "colab_type": "code",
        "colab": {
          "base_uri": "https://localhost:8080/",
          "height": 356
        },
        "outputId": "f252f7e1-e891-4950-cd0f-3173c0d1f1c0"
      },
      "source": [
        "fig, (ax1, ax2, ax3, ax4, ax5) = plt.subplots(1, 5, figsize=(23,5))\n",
        "xs = [2,3,4,5]\n",
        "fig.suptitle('Grafica de la exactitud (por neurona en la capa oculta 2)')\n",
        "ax1.plot(xs, accuracy[0])\n",
        "ax2.plot(xs, accuracy[1])\n",
        "ax3.plot(xs, accuracy[2])\n",
        "ax4.plot(xs, accuracy[3])\n",
        "ax5.plot(xs, accuracy[4])\n",
        "ax1.title.set_text('una neurona')\n",
        "ax2.title.set_text('dos neuronas')\n",
        "ax3.title.set_text('tres neuronas')\n",
        "ax4.title.set_text('cuatro neuronas')\n",
        "ax5.title.set_text('cinco neuronas')\n",
        "for ax in fig.get_axes():\n",
        "    ax.label_outer()"
      ],
      "execution_count": 13,
      "outputs": [
        {
          "output_type": "display_data",
          "data": {
            "image/png": "[encoded data removed]",
            "text/plain": [
              "<Figure size 1656x360 with 5 Axes>"
            ]
          },
          "metadata": {
            "tags": []
          }
        }
      ]
    },
    {
      "cell_type": "markdown",
      "metadata": {
        "id": "WiqR88G24At-",
        "colab_type": "text"
      },
      "source": [
        "Para el caso evaluado, interesa maximizar la exactitud del modelo. Gracias a la robustez asegurada por el crossvalidation, se escoje el modelo de 2 capas ocultas con 2 neuronas en ambas capas."
      ]
    },
    {
      "cell_type": "code",
      "metadata": {
        "id": "KrpSG5AW4AKu",
        "colab_type": "code",
        "colab": {
          "base_uri": "https://localhost:8080/",
          "height": 295
        },
        "outputId": "b9ad57e1-e846-43a6-bd9c-aba38d812e79"
      },
      "source": [
        "model = MLPClassifier(hidden_layer_sizes=(2, 2 ),\n",
        "     activation = 'logistic',\n",
        "     learning_rate = 'adaptive',\n",
        "     momentum = 0.9,\n",
        "     learning_rate_init = 0.5,\n",
        "     random_state = 45,\n",
        "     max_iter = 10000\n",
        "     )\n",
        "model.fit(X_train, y_train_true)\n",
        "cm = plot_confusion_matrix(model, X_test, y_test_true,\n",
        "     display_labels=['ham', 'spam'],\n",
        "     cmap=plt.cm.Blues,\n",
        "     normalize='true')\n",
        "\n",
        "cm.ax_.set_title(\"Matriz de confusion normalizada para la red neuronal\")\n",
        "plt.show()"
      ],
      "execution_count": 16,
      "outputs": [
        {
          "output_type": "display_data",
          "data": {
            "image/png": "[encoded data removed]",
            "text/plain": [
              "<Figure size 432x288 with 2 Axes>"
            ]
          },
          "metadata": {
            "tags": []
          }
        }
      ]
    },
    {
      "cell_type": "markdown",
      "metadata": {
        "id": "L18bL-Pp7NQl",
        "colab_type": "text"
      },
      "source": [
        "Este modelo a diferencia del anterior, encuentra más $spam$ con certeza y se equivoca menos en decir que un mensaje $spam$ es considerado como $ham$. Pero arriesga algunos mensajes de tipo $ham$ que no van a llegar por ser considerados $spam$, más que el modelo anterior.\n",
        "\n",
        "Para el caso objetivo, de que la persona reciba todos sus mensajes $ham$ y trate de reducir los mensajes de $spam$, el mejor modelo es el de la regresión logística. Ya que asegura que mas cantidad de mensajes $ham$ lleguen correctamente con una poca probabilidad de ser considerados $spam$."
      ]
    }
  ]
}